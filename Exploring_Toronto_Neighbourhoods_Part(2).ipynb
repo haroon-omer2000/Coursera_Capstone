{
  "nbformat": 4,
  "nbformat_minor": 0,
  "metadata": {
    "colab": {
      "name": "Exploring Toronto Neighbourhoods Part(2).ipynb",
      "provenance": [],
      "collapsed_sections": [],
      "toc_visible": true
    },
    "kernelspec": {
      "name": "python3",
      "display_name": "Python 3"
    },
    "language_info": {
      "name": "python"
    }
  },
  "cells": [
    {
      "cell_type": "markdown",
      "metadata": {
        "id": "WUBmOqLVJhzl"
      },
      "source": [
        "# **Imports**"
      ]
    },
    {
      "cell_type": "code",
      "metadata": {
        "id": "itxNNBysLmld"
      },
      "source": [
        "import pandas as pd\n",
        "import numpy as np\n",
        "import requests\n",
        "from bs4 import BeautifulSoup\n",
        "import geocoder"
      ],
      "execution_count": 11,
      "outputs": []
    },
    {
      "cell_type": "markdown",
      "metadata": {
        "id": "etEKif9AJwhP"
      },
      "source": [
        "# **Scraping Data From URL**"
      ]
    },
    {
      "cell_type": "code",
      "metadata": {
        "id": "CCAbjrmIJmeT"
      },
      "source": [
        "url = \"https://en.wikipedia.org/wiki/List_of_postal_codes_of_Canada:_M\"\n",
        "data=requests.get(url).text\n",
        "soup=BeautifulSoup(data,'html.parser')\n",
        "\n",
        "#find the first html table in the web page\n",
        "table = soup.find('table')"
      ],
      "execution_count": 3,
      "outputs": []
    },
    {
      "cell_type": "markdown",
      "metadata": {
        "id": "a6ob9kPEU5KL"
      },
      "source": [
        "**Function to clean the dataframe column**"
      ]
    },
    {
      "cell_type": "code",
      "metadata": {
        "id": "RLfFIuqRUvM8"
      },
      "source": [
        "def cleanData(df,column):\n",
        "  # replacing the remaining special characters with the ones mentioned\n",
        "  df[column]=df[column].str.replace(')','')\n",
        "  df[column]=df[column].str.replace('(','')\n",
        "  df[column]=df[column].str.replace('/',',')\n",
        "  return df"
      ],
      "execution_count": 5,
      "outputs": []
    },
    {
      "cell_type": "markdown",
      "metadata": {
        "id": "vWrzSuCoLbQP"
      },
      "source": [
        "**Reading data into a pandas dataframe**"
      ]
    },
    {
      "cell_type": "code",
      "metadata": {
        "colab": {
          "base_uri": "https://localhost:8080/",
          "height": 419
        },
        "id": "55PkaD2EJ-kW",
        "outputId": "0b771e32-27ce-4cff-d18b-2bcc5d80f47b"
      },
      "source": [
        "# creating a new dataframe\n",
        "toronto_neighbourhood=pd.DataFrame(columns=['Postal_Code','Borough','Neighbourhood'])\n",
        "\n",
        "# iterating the html tags and scaping the required information\n",
        "for row in table.find_all('td'):\n",
        "  postal_code=row.find('b').text\n",
        "  borough_neighbourhood=row.find('span').text\n",
        "\n",
        "  if (\"Not assigned\"  not in borough_neighbourhood):\n",
        "    borough,neighbourhood=borough_neighbourhood.split('(',1)\n",
        "    toronto_neighbourhood=toronto_neighbourhood.append({'Postal_Code':postal_code,\n",
        "                                  'Borough':borough,\n",
        "                                  'Neighbourhood':neighbourhood\n",
        "                                  },ignore_index=True)\n",
        "\n",
        "# cleaning the values\n",
        "toronto_neighbourhood=cleanData(toronto_neighbourhood,'Neighbourhood')\n",
        "toronto_neighbourhood"
      ],
      "execution_count": 6,
      "outputs": [
        {
          "output_type": "execute_result",
          "data": {
            "text/html": [
              "<div>\n",
              "<style scoped>\n",
              "    .dataframe tbody tr th:only-of-type {\n",
              "        vertical-align: middle;\n",
              "    }\n",
              "\n",
              "    .dataframe tbody tr th {\n",
              "        vertical-align: top;\n",
              "    }\n",
              "\n",
              "    .dataframe thead th {\n",
              "        text-align: right;\n",
              "    }\n",
              "</style>\n",
              "<table border=\"1\" class=\"dataframe\">\n",
              "  <thead>\n",
              "    <tr style=\"text-align: right;\">\n",
              "      <th></th>\n",
              "      <th>Postal_Code</th>\n",
              "      <th>Borough</th>\n",
              "      <th>Neighbourhood</th>\n",
              "    </tr>\n",
              "  </thead>\n",
              "  <tbody>\n",
              "    <tr>\n",
              "      <th>0</th>\n",
              "      <td>M3A</td>\n",
              "      <td>North York</td>\n",
              "      <td>Parkwoods</td>\n",
              "    </tr>\n",
              "    <tr>\n",
              "      <th>1</th>\n",
              "      <td>M4A</td>\n",
              "      <td>North York</td>\n",
              "      <td>Victoria Village</td>\n",
              "    </tr>\n",
              "    <tr>\n",
              "      <th>2</th>\n",
              "      <td>M5A</td>\n",
              "      <td>Downtown Toronto</td>\n",
              "      <td>Regent Park , Harbourfront</td>\n",
              "    </tr>\n",
              "    <tr>\n",
              "      <th>3</th>\n",
              "      <td>M6A</td>\n",
              "      <td>North York</td>\n",
              "      <td>Lawrence Manor , Lawrence Heights</td>\n",
              "    </tr>\n",
              "    <tr>\n",
              "      <th>4</th>\n",
              "      <td>M7A</td>\n",
              "      <td>Queen's Park</td>\n",
              "      <td>Ontario Provincial Government</td>\n",
              "    </tr>\n",
              "    <tr>\n",
              "      <th>...</th>\n",
              "      <td>...</td>\n",
              "      <td>...</td>\n",
              "      <td>...</td>\n",
              "    </tr>\n",
              "    <tr>\n",
              "      <th>98</th>\n",
              "      <td>M8X</td>\n",
              "      <td>Etobicoke</td>\n",
              "      <td>The Kingsway , Montgomery Road , Old Mill North</td>\n",
              "    </tr>\n",
              "    <tr>\n",
              "      <th>99</th>\n",
              "      <td>M4Y</td>\n",
              "      <td>Downtown Toronto</td>\n",
              "      <td>Church and Wellesley</td>\n",
              "    </tr>\n",
              "    <tr>\n",
              "      <th>100</th>\n",
              "      <td>M7Y</td>\n",
              "      <td>East TorontoBusiness reply mail Processing Cen...</td>\n",
              "      <td>Enclave of M4L</td>\n",
              "    </tr>\n",
              "    <tr>\n",
              "      <th>101</th>\n",
              "      <td>M8Y</td>\n",
              "      <td>Etobicoke</td>\n",
              "      <td>Old Mill South , King's Mill Park , Sunnylea ,...</td>\n",
              "    </tr>\n",
              "    <tr>\n",
              "      <th>102</th>\n",
              "      <td>M8Z</td>\n",
              "      <td>Etobicoke</td>\n",
              "      <td>Mimico NW , The Queensway West , South of Bloo...</td>\n",
              "    </tr>\n",
              "  </tbody>\n",
              "</table>\n",
              "<p>103 rows × 3 columns</p>\n",
              "</div>"
            ],
            "text/plain": [
              "    Postal_Code  ...                                      Neighbourhood\n",
              "0           M3A  ...                                          Parkwoods\n",
              "1           M4A  ...                                   Victoria Village\n",
              "2           M5A  ...                         Regent Park , Harbourfront\n",
              "3           M6A  ...                  Lawrence Manor , Lawrence Heights\n",
              "4           M7A  ...                      Ontario Provincial Government\n",
              "..          ...  ...                                                ...\n",
              "98          M8X  ...    The Kingsway , Montgomery Road , Old Mill North\n",
              "99          M4Y  ...                               Church and Wellesley\n",
              "100         M7Y  ...                                     Enclave of M4L\n",
              "101         M8Y  ...  Old Mill South , King's Mill Park , Sunnylea ,...\n",
              "102         M8Z  ...  Mimico NW , The Queensway West , South of Bloo...\n",
              "\n",
              "[103 rows x 3 columns]"
            ]
          },
          "metadata": {
            "tags": []
          },
          "execution_count": 6
        }
      ]
    },
    {
      "cell_type": "markdown",
      "metadata": {
        "id": "iyBMqASz-j3K"
      },
      "source": [
        "**Shape of the dataframe**"
      ]
    },
    {
      "cell_type": "code",
      "metadata": {
        "colab": {
          "base_uri": "https://localhost:8080/"
        },
        "id": "KqiBNr51-MSD",
        "outputId": "a799fdd6-75de-4e3d-e28f-aa582f7fb787"
      },
      "source": [
        "toronto_neighbourhood.shape "
      ],
      "execution_count": 12,
      "outputs": [
        {
          "output_type": "execute_result",
          "data": {
            "text/plain": [
              "(103, 3)"
            ]
          },
          "metadata": {
            "tags": []
          },
          "execution_count": 12
        }
      ]
    },
    {
      "cell_type": "markdown",
      "metadata": {
        "id": "8LE9ABRPQks0"
      },
      "source": [
        "**The api was not working so downloaded the given CSV file**"
      ]
    },
    {
      "cell_type": "code",
      "metadata": {
        "id": "vgA9M6UdLHe3"
      },
      "source": [
        "\"\"\"# initialize your variable to None\n",
        "lat_lng_coords = None\n",
        "\n",
        "for i in toronto_neighbourhood['Postal_Code'].to_list():\n",
        "  # loop until you get the coordinates\n",
        "  while (lat_lng_coords is None):\n",
        "    g = geocoder.google('{}, Toronto, Ontario'.format(str(i)))\n",
        "    lat_lng_coords = g.latlng\n",
        "    if (lat_lng_coords) is not None:\n",
        "      latitude = lat_lng_coords[0]\n",
        "      longitude = lat_lng_coords[1]\n",
        "      print('Lat: {} Lng: {}'.format(latitude,longitude))\"\"\""
      ],
      "execution_count": null,
      "outputs": []
    },
    {
      "cell_type": "markdown",
      "metadata": {
        "id": "98FtVV37Qo9c"
      },
      "source": [
        "**Reading the geospatial coordinates into a csv file**\n"
      ]
    },
    {
      "cell_type": "code",
      "metadata": {
        "colab": {
          "base_uri": "https://localhost:8080/",
          "height": 419
        },
        "id": "uhNVI0ipMSnv",
        "outputId": "6a86a293-56c1-49e8-f175-9e9298a78343"
      },
      "source": [
        "geospatial_coordinates=pd.read_csv('Geospatial_Coordinates.csv')\n",
        "geospatial_coordinates.rename(columns={\"Postal Code\":\"Postal_Code\"},inplace=True)\n",
        "geospatial_coordinates"
      ],
      "execution_count": 23,
      "outputs": [
        {
          "output_type": "execute_result",
          "data": {
            "text/html": [
              "<div>\n",
              "<style scoped>\n",
              "    .dataframe tbody tr th:only-of-type {\n",
              "        vertical-align: middle;\n",
              "    }\n",
              "\n",
              "    .dataframe tbody tr th {\n",
              "        vertical-align: top;\n",
              "    }\n",
              "\n",
              "    .dataframe thead th {\n",
              "        text-align: right;\n",
              "    }\n",
              "</style>\n",
              "<table border=\"1\" class=\"dataframe\">\n",
              "  <thead>\n",
              "    <tr style=\"text-align: right;\">\n",
              "      <th></th>\n",
              "      <th>Postal_Code</th>\n",
              "      <th>Latitude</th>\n",
              "      <th>Longitude</th>\n",
              "    </tr>\n",
              "  </thead>\n",
              "  <tbody>\n",
              "    <tr>\n",
              "      <th>0</th>\n",
              "      <td>M1B</td>\n",
              "      <td>43.806686</td>\n",
              "      <td>-79.194353</td>\n",
              "    </tr>\n",
              "    <tr>\n",
              "      <th>1</th>\n",
              "      <td>M1C</td>\n",
              "      <td>43.784535</td>\n",
              "      <td>-79.160497</td>\n",
              "    </tr>\n",
              "    <tr>\n",
              "      <th>2</th>\n",
              "      <td>M1E</td>\n",
              "      <td>43.763573</td>\n",
              "      <td>-79.188711</td>\n",
              "    </tr>\n",
              "    <tr>\n",
              "      <th>3</th>\n",
              "      <td>M1G</td>\n",
              "      <td>43.770992</td>\n",
              "      <td>-79.216917</td>\n",
              "    </tr>\n",
              "    <tr>\n",
              "      <th>4</th>\n",
              "      <td>M1H</td>\n",
              "      <td>43.773136</td>\n",
              "      <td>-79.239476</td>\n",
              "    </tr>\n",
              "    <tr>\n",
              "      <th>...</th>\n",
              "      <td>...</td>\n",
              "      <td>...</td>\n",
              "      <td>...</td>\n",
              "    </tr>\n",
              "    <tr>\n",
              "      <th>98</th>\n",
              "      <td>M9N</td>\n",
              "      <td>43.706876</td>\n",
              "      <td>-79.518188</td>\n",
              "    </tr>\n",
              "    <tr>\n",
              "      <th>99</th>\n",
              "      <td>M9P</td>\n",
              "      <td>43.696319</td>\n",
              "      <td>-79.532242</td>\n",
              "    </tr>\n",
              "    <tr>\n",
              "      <th>100</th>\n",
              "      <td>M9R</td>\n",
              "      <td>43.688905</td>\n",
              "      <td>-79.554724</td>\n",
              "    </tr>\n",
              "    <tr>\n",
              "      <th>101</th>\n",
              "      <td>M9V</td>\n",
              "      <td>43.739416</td>\n",
              "      <td>-79.588437</td>\n",
              "    </tr>\n",
              "    <tr>\n",
              "      <th>102</th>\n",
              "      <td>M9W</td>\n",
              "      <td>43.706748</td>\n",
              "      <td>-79.594054</td>\n",
              "    </tr>\n",
              "  </tbody>\n",
              "</table>\n",
              "<p>103 rows × 3 columns</p>\n",
              "</div>"
            ],
            "text/plain": [
              "    Postal_Code   Latitude  Longitude\n",
              "0           M1B  43.806686 -79.194353\n",
              "1           M1C  43.784535 -79.160497\n",
              "2           M1E  43.763573 -79.188711\n",
              "3           M1G  43.770992 -79.216917\n",
              "4           M1H  43.773136 -79.239476\n",
              "..          ...        ...        ...\n",
              "98          M9N  43.706876 -79.518188\n",
              "99          M9P  43.696319 -79.532242\n",
              "100         M9R  43.688905 -79.554724\n",
              "101         M9V  43.739416 -79.588437\n",
              "102         M9W  43.706748 -79.594054\n",
              "\n",
              "[103 rows x 3 columns]"
            ]
          },
          "metadata": {
            "tags": []
          },
          "execution_count": 23
        }
      ]
    },
    {
      "cell_type": "markdown",
      "metadata": {
        "id": "0xhkLktBQskH"
      },
      "source": [
        "**Combining both dataframes based on postal code**"
      ]
    },
    {
      "cell_type": "code",
      "metadata": {
        "colab": {
          "base_uri": "https://localhost:8080/",
          "height": 453
        },
        "id": "0maXsRreOu1U",
        "outputId": "e61d0628-2c81-40b7-b44c-e583a38143c4"
      },
      "source": [
        "toronto_neighbourhood=pd.merge(toronto_neighbourhood,geospatial_coordinates,on='Postal_Code')\n",
        "toronto_neighbourhood"
      ],
      "execution_count": 26,
      "outputs": [
        {
          "output_type": "execute_result",
          "data": {
            "text/html": [
              "<div>\n",
              "<style scoped>\n",
              "    .dataframe tbody tr th:only-of-type {\n",
              "        vertical-align: middle;\n",
              "    }\n",
              "\n",
              "    .dataframe tbody tr th {\n",
              "        vertical-align: top;\n",
              "    }\n",
              "\n",
              "    .dataframe thead th {\n",
              "        text-align: right;\n",
              "    }\n",
              "</style>\n",
              "<table border=\"1\" class=\"dataframe\">\n",
              "  <thead>\n",
              "    <tr style=\"text-align: right;\">\n",
              "      <th></th>\n",
              "      <th>Postal_Code</th>\n",
              "      <th>Borough</th>\n",
              "      <th>Neighbourhood</th>\n",
              "      <th>Latitude</th>\n",
              "      <th>Longitude</th>\n",
              "    </tr>\n",
              "  </thead>\n",
              "  <tbody>\n",
              "    <tr>\n",
              "      <th>0</th>\n",
              "      <td>M3A</td>\n",
              "      <td>North York</td>\n",
              "      <td>Parkwoods</td>\n",
              "      <td>43.753259</td>\n",
              "      <td>-79.329656</td>\n",
              "    </tr>\n",
              "    <tr>\n",
              "      <th>1</th>\n",
              "      <td>M4A</td>\n",
              "      <td>North York</td>\n",
              "      <td>Victoria Village</td>\n",
              "      <td>43.725882</td>\n",
              "      <td>-79.315572</td>\n",
              "    </tr>\n",
              "    <tr>\n",
              "      <th>2</th>\n",
              "      <td>M5A</td>\n",
              "      <td>Downtown Toronto</td>\n",
              "      <td>Regent Park , Harbourfront</td>\n",
              "      <td>43.654260</td>\n",
              "      <td>-79.360636</td>\n",
              "    </tr>\n",
              "    <tr>\n",
              "      <th>3</th>\n",
              "      <td>M6A</td>\n",
              "      <td>North York</td>\n",
              "      <td>Lawrence Manor , Lawrence Heights</td>\n",
              "      <td>43.718518</td>\n",
              "      <td>-79.464763</td>\n",
              "    </tr>\n",
              "    <tr>\n",
              "      <th>4</th>\n",
              "      <td>M7A</td>\n",
              "      <td>Queen's Park</td>\n",
              "      <td>Ontario Provincial Government</td>\n",
              "      <td>43.662301</td>\n",
              "      <td>-79.389494</td>\n",
              "    </tr>\n",
              "    <tr>\n",
              "      <th>...</th>\n",
              "      <td>...</td>\n",
              "      <td>...</td>\n",
              "      <td>...</td>\n",
              "      <td>...</td>\n",
              "      <td>...</td>\n",
              "    </tr>\n",
              "    <tr>\n",
              "      <th>98</th>\n",
              "      <td>M8X</td>\n",
              "      <td>Etobicoke</td>\n",
              "      <td>The Kingsway , Montgomery Road , Old Mill North</td>\n",
              "      <td>43.653654</td>\n",
              "      <td>-79.506944</td>\n",
              "    </tr>\n",
              "    <tr>\n",
              "      <th>99</th>\n",
              "      <td>M4Y</td>\n",
              "      <td>Downtown Toronto</td>\n",
              "      <td>Church and Wellesley</td>\n",
              "      <td>43.665860</td>\n",
              "      <td>-79.383160</td>\n",
              "    </tr>\n",
              "    <tr>\n",
              "      <th>100</th>\n",
              "      <td>M7Y</td>\n",
              "      <td>East TorontoBusiness reply mail Processing Cen...</td>\n",
              "      <td>Enclave of M4L</td>\n",
              "      <td>43.662744</td>\n",
              "      <td>-79.321558</td>\n",
              "    </tr>\n",
              "    <tr>\n",
              "      <th>101</th>\n",
              "      <td>M8Y</td>\n",
              "      <td>Etobicoke</td>\n",
              "      <td>Old Mill South , King's Mill Park , Sunnylea ,...</td>\n",
              "      <td>43.636258</td>\n",
              "      <td>-79.498509</td>\n",
              "    </tr>\n",
              "    <tr>\n",
              "      <th>102</th>\n",
              "      <td>M8Z</td>\n",
              "      <td>Etobicoke</td>\n",
              "      <td>Mimico NW , The Queensway West , South of Bloo...</td>\n",
              "      <td>43.628841</td>\n",
              "      <td>-79.520999</td>\n",
              "    </tr>\n",
              "  </tbody>\n",
              "</table>\n",
              "<p>103 rows × 5 columns</p>\n",
              "</div>"
            ],
            "text/plain": [
              "    Postal_Code  ...  Longitude\n",
              "0           M3A  ... -79.329656\n",
              "1           M4A  ... -79.315572\n",
              "2           M5A  ... -79.360636\n",
              "3           M6A  ... -79.464763\n",
              "4           M7A  ... -79.389494\n",
              "..          ...  ...        ...\n",
              "98          M8X  ... -79.506944\n",
              "99          M4Y  ... -79.383160\n",
              "100         M7Y  ... -79.321558\n",
              "101         M8Y  ... -79.498509\n",
              "102         M8Z  ... -79.520999\n",
              "\n",
              "[103 rows x 5 columns]"
            ]
          },
          "metadata": {
            "tags": []
          },
          "execution_count": 26
        }
      ]
    }
  ]
}